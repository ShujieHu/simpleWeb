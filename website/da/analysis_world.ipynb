{
 "cells": [
  {
   "cell_type": "code",
   "execution_count": 2,
   "metadata": {},
   "outputs": [
    {
     "ename": "RuntimeError",
     "evalue": "No country is provided by the user! NOT running!",
     "output_type": "error",
     "traceback": [
      "\u001b[0;31m---------------------------------------------------------------------------\u001b[0m",
      "\u001b[0;31mRuntimeError\u001b[0m                              Traceback (most recent call last)",
      "\u001b[0;32m/var/folders/rb/0jd28ytd1rdgghqdf44lhr400000gn/T/ipykernel_48083/1505446163.py\u001b[0m in \u001b[0;36m<module>\u001b[0;34m\u001b[0m\n\u001b[1;32m     11\u001b[0m \u001b[0mCOUNTRY\u001b[0m \u001b[0;34m=\u001b[0m \u001b[0mos\u001b[0m\u001b[0;34m.\u001b[0m\u001b[0mgetenv\u001b[0m\u001b[0;34m(\u001b[0m\u001b[0;34m'NB_ARGS'\u001b[0m\u001b[0;34m,\u001b[0m \u001b[0;32mNone\u001b[0m\u001b[0;34m)\u001b[0m\u001b[0;34m\u001b[0m\u001b[0;34m\u001b[0m\u001b[0m\n\u001b[1;32m     12\u001b[0m \u001b[0;32mif\u001b[0m \u001b[0mCOUNTRY\u001b[0m \u001b[0;32mis\u001b[0m \u001b[0;32mNone\u001b[0m\u001b[0;34m:\u001b[0m\u001b[0;34m\u001b[0m\u001b[0;34m\u001b[0m\u001b[0m\n\u001b[0;32m---> 13\u001b[0;31m     \u001b[0;32mraise\u001b[0m \u001b[0mRuntimeError\u001b[0m\u001b[0;34m(\u001b[0m\u001b[0;34m\"No country is provided by the user! NOT running!\"\u001b[0m\u001b[0;34m)\u001b[0m\u001b[0;34m\u001b[0m\u001b[0;34m\u001b[0m\u001b[0m\n\u001b[0m\u001b[1;32m     14\u001b[0m \u001b[0mmd\u001b[0m\u001b[0;34m(\u001b[0m\u001b[0;34mf\"# Web-based Analysis of Spread of Covid-19 for country {COUNTRY}\"\u001b[0m\u001b[0;34m)\u001b[0m\u001b[0;34m\u001b[0m\u001b[0;34m\u001b[0m\u001b[0m\n",
      "\u001b[0;31mRuntimeError\u001b[0m: No country is provided by the user! NOT running!"
     ]
    }
   ],
   "source": [
    "from IPython.display import Markdown as md\n",
    "import os\n",
    "import numpy as np\n",
    "import matplotlib.pyplot as plt\n",
    "import ssl\n",
    "import pandas as pd\n",
    "import os\n",
    "from datetime import datetime\n",
    "ssl._create_default_https_context = ssl._create_unverified_context\n",
    "\n",
    "COUNTRY = os.getenv('NB_ARGS', None)\n",
    "if COUNTRY is None:\n",
    "    raise RuntimeError(\"No country is provided by the user! NOT running!\") \n",
    "md(f\"# Web-based Analysis of Spread of Covid-19 for country {COUNTRY}\")"
   ]
  },
  {
   "cell_type": "markdown",
   "metadata": {
    "id": "OHvLRMQkPjLI"
   },
   "source": [
    "## Introduction\n",
    "\n",
    "Based on Reference [1], an SIR (the Spread of an Infective Disease) model for infective disease is based on the following differential equations.\n",
    "\n",
    "${dS \\over dt} = -{\\beta I S \\over N}$\n",
    "\n",
    "${dI \\over dt} = {\\beta I S \\over N} - {\\gamma I}$\n",
    "\n",
    "${dR \\over dt} = {\\gamma I}$\n",
    "\n",
    "where\n",
    "* $S$ is the initial susceptible population\n",
    "* $I$ is the initial infected population\n",
    "* $R$ is the initial recovered population\n",
    "* $N$ is the initial sum of $S$, $I$, $R$ and will remain constants\n",
    "\n",
    "due to the observation that\n",
    "\n",
    "${dS \\over dt}+{dI \\over dt}+{dR \\over dt}=0$\n",
    "\n",
    "$\\beta$ and $\\gamma$ are directly related to the basic reproduction number\n",
    "$R_0$ and typical time until recovery $T_r$ in the following formula:\n",
    "\n",
    "$R_0={\\beta \\over \\gamma}$\n",
    "\n",
    "$T_r = {\\gamma}^{-1}$\n",
    "\n",
    "The SIR model lies on a few assumptions:\n",
    "* $R_0$ and $T_r$ is constant through the whole simulation process.\n",
    "* There is no/few deaths from the disease so that $N$ is constant through the process.\n",
    "* Recovered population will get immune to the spread of the disease."
   ]
  },
  {
   "cell_type": "markdown",
   "metadata": {
    "id": "JsstQcdnRQPp"
   },
   "source": [
    "# Methods (Implementations of SIR model)\n",
    "The model is implemented and tested based on finite difference represetation of the above differential equations. Specifically, the three core finite difference equations are listed below: \n",
    "\n",
    "$S^{t+\\Delta t} \\approx S^{t}-{\\beta I^{t} S^{t} \\over N}\\Delta t$\n",
    "\n",
    "$I^{t+\\Delta t} \\approx I^{t}+({\\beta I^{t} S^{t} \\over N} - \\gamma I^{t})\\Delta t$\n",
    "\n",
    "$R^{t+\\Delta t} \\approx R^{t}+ \\gamma I^t\\Delta t$\n",
    "\n",
    "Therefore, I can implement the iterative algorithm based on the initial values of $s_0$, $i_0$, $r_0$ and parameters $\\beta$ and $\\gamma$ similar to Reference [2].\n"
   ]
  },
  {
   "cell_type": "code",
   "execution_count": 1,
   "metadata": {
    "id": "YF8xy-ZgWbI4"
   },
   "outputs": [],
   "source": [
    "# based on old values, calculate new values for time change dt\n",
    "def s_new(s_old, i_old, beta, n, dt):\n",
    "    \"\"\"\n",
    "    Computes S value for the next timestep, based on\n",
    "    s_old : current S value\n",
    "    i_old : current I value\n",
    "    beta : R0 * gamma\n",
    "    n: sum of S, I and R, which is constant through the whole time\n",
    "    dt : timestep\n",
    "    \"\"\"\n",
    "    return s_old - beta * i_old * s_old / n * dt\n",
    "\n",
    "def i_new(s_old, i_old, beta, gamma, n, dt):\n",
    "\n",
    "    \"\"\"\n",
    "    Computes I value for the next timestep, based on\n",
    "    i_old : current I value\n",
    "    s_old : current S value\n",
    "    beta : R0 * gamma\n",
    "    gamma : inverse of Tr (typical time until recovery)\n",
    "    n: sum of S, I and R, which is constant through the whole time\n",
    "    dt : timestep\n",
    "    \"\"\"\n",
    "    return i_old + (beta * i_old * s_old / n - gamma * i_old) * dt\n",
    "\n",
    "def r_new(i_old, r_old, gamma, dt):\n",
    "    \"\"\"\n",
    "    Computes R value for the next timestep, based on\n",
    "    i_old : current I value\n",
    "    s_old : current R value\n",
    "    gamma : inverse of Tr (typical time until recovery)\n",
    "    dt : timestep\n",
    "    \"\"\"\n",
    "    return r_old + gamma * i_old * dt\n",
    "\n",
    "\n",
    "# Solve the problem with iterations.\n",
    "def sor_model(s_0, i_0, r_0, beta, gamma, t_n, dt):\n",
    "    \"\"\"\n",
    "    s_0, i_0, r_0 : initial values for s, i, r\n",
    "    beta : R0 * gamma\n",
    "    gamma : inverse of Tr (typical time until recovery)\n",
    "    t_n : final time step\n",
    "    dt : timestep\n",
    "    Returns four numpy arrays, s, i, r, t.\n",
    "    \"\"\"\n",
    "  \n",
    "    # Calculate # of timesteps and prepare result t array.\n",
    "    num_timesteps = int(t_n / dt) + 1\n",
    "    t = np.arange(start=0.0, stop=t_n+dt, step=dt)\n",
    "\n",
    "    # Initialize result arrays.\n",
    "    s = np.zeros(num_timesteps, dtype=float)\n",
    "    i = np.zeros(num_timesteps, dtype=float)\n",
    "    r = np.zeros(num_timesteps, dtype=float)\n",
    "\n",
    "    # Store the initial SIR populations.\n",
    "    s[0] = s_0\n",
    "    i[0] = i_0\n",
    "    r[0] = r_0\n",
    "    n = s_0 + i_0 + r_0\n",
    "\n",
    "    # Iterate!\n",
    "    for iter in np.arange(1, num_timesteps):\n",
    "        s[iter] = s_new(s_old=s[iter-1], i_old=i[iter-1], beta=beta,\n",
    "                        n=n, dt=dt)\n",
    "        i[iter] = i_new(s_old=s[iter-1], i_old=i[iter-1], beta=beta,\n",
    "                        gamma=gamma, n=n, dt=dt)\n",
    "        r[iter] = r_new(i_old=i[iter-1], r_old=r[iter-1], gamma=gamma, dt=dt)\n",
    "    return s, i, r, t\n",
    "\n",
    "def plot_series(t, series_list, series_labels, \n",
    "                xlabel, ylabel, title):\n",
    "    \"\"\"\n",
    "    series_list : list of numpy results to plot\n",
    "    series_labels : list of labels for above series_list\n",
    "    xlabel, ylabel : label for x and y axes respectiely\n",
    "    title : plot title\n",
    "    \"\"\"\n",
    "    for series, label in zip(series_list, series_labels):\n",
    "      plt.plot(t, series, label=label)\n",
    "    plt.legend()\n",
    "    plt.xlabel(xlabel)\n",
    "    plt.ylabel(ylabel)\n",
    "    plt.title(title)\n",
    "    plt.show()"
   ]
  },
  {
   "cell_type": "code",
   "execution_count": 1,
   "metadata": {
    "colab": {
     "base_uri": "https://localhost:8080/",
     "height": 358
    },
    "id": "XXWi13JApysQ",
    "outputId": "eb67e93c-1fe2-4903-b230-2a707c196d78"
   },
   "outputs": [
    {
     "ename": "NameError",
     "evalue": "name 'pd' is not defined",
     "output_type": "error",
     "traceback": [
      "\u001b[0;31m---------------------------------------------------------------------------\u001b[0m",
      "\u001b[0;31mNameError\u001b[0m                                 Traceback (most recent call last)",
      "\u001b[0;32m/var/folders/rb/0jd28ytd1rdgghqdf44lhr400000gn/T/ipykernel_48083/780124769.py\u001b[0m in \u001b[0;36m<module>\u001b[0;34m\u001b[0m\n\u001b[1;32m      1\u001b[0m \u001b[0murl\u001b[0m \u001b[0;34m=\u001b[0m \u001b[0;34m'https://raw.githubusercontent.com/CSSEGISandData/COVID-19/master/csse_covid_19_data/csse_covid_19_time_series/time_series_covid19_{}_global.csv'\u001b[0m\u001b[0;34m\u001b[0m\u001b[0;34m\u001b[0m\u001b[0m\n\u001b[1;32m      2\u001b[0m \u001b[0;34m\u001b[0m\u001b[0m\n\u001b[0;32m----> 3\u001b[0;31m \u001b[0mconfirmed_cases\u001b[0m \u001b[0;34m=\u001b[0m \u001b[0mpd\u001b[0m\u001b[0;34m.\u001b[0m\u001b[0mread_csv\u001b[0m\u001b[0;34m(\u001b[0m\u001b[0murl\u001b[0m\u001b[0;34m.\u001b[0m\u001b[0mformat\u001b[0m\u001b[0;34m(\u001b[0m\u001b[0;34m'confirmed'\u001b[0m\u001b[0;34m)\u001b[0m\u001b[0;34m)\u001b[0m\u001b[0;34m\u001b[0m\u001b[0;34m\u001b[0m\u001b[0m\n\u001b[0m\u001b[1;32m      4\u001b[0m \u001b[0mconfirmed_cases\u001b[0m \u001b[0;34m=\u001b[0m \u001b[0mconfirmed_cases\u001b[0m\u001b[0;34m[\u001b[0m\u001b[0mconfirmed_cases\u001b[0m\u001b[0;34m[\u001b[0m\u001b[0;34m'Country/Region'\u001b[0m\u001b[0;34m]\u001b[0m \u001b[0;34m==\u001b[0m \u001b[0mCOUNTRY\u001b[0m\u001b[0;34m]\u001b[0m\u001b[0;34m\u001b[0m\u001b[0;34m\u001b[0m\u001b[0m\n\u001b[1;32m      5\u001b[0m \u001b[0;34m\u001b[0m\u001b[0m\n",
      "\u001b[0;31mNameError\u001b[0m: name 'pd' is not defined"
     ]
    }
   ],
   "source": [
    "url = 'https://raw.githubusercontent.com/CSSEGISandData/COVID-19/master/csse_covid_19_data/csse_covid_19_time_series/time_series_covid19_{}_global.csv'\n",
    "\n",
    "confirmed_cases = pd.read_csv(url.format('confirmed'))\n",
    "confirmed_cases = confirmed_cases[confirmed_cases['Country/Region'] == COUNTRY]\n",
    "\n",
    "death_cases = pd.read_csv(url.format('deaths'))\n",
    "death_cases = death_cases[death_cases['Country/Region'] == COUNTRY]              \n",
    "recorvered_cases = pd.read_csv(url.format('recovered'))\n",
    "recorvered_cases = recorvered_cases[recorvered_cases['Country/Region'] == COUNTRY]              \n",
    "if (not len(death_cases) or not len(confirmed_cases) or not len(recorvered_cases)):\n",
    "    md(\"No record found for provided country '{}'\".format(COUNTRY))\n",
    "    raise RuntimeError(\"No record found for provided country '{}'\".format(COUNTRY))\n",
    "                          \n",
    "# Filter out the global covid-19 cases by targeted country\n",
    "# Right now, I am choosing Feb. 28 2021 as the hard date since this is when mrna vaccination started\n",
    "# '1/22/2020' is the date of the first report\n",
    "start_date = '1/22/20'\n",
    "end_date = '4/28/21'\n",
    "\n",
    "confirmed = confirmed_cases.iloc[0].loc[:end_date][4:]\n",
    "deaths = death_cases.iloc[0].loc[:end_date][4:]\n",
    "recovered = recorvered_cases.iloc[0].loc[:end_date][4:]\n",
    "\n",
    "infected = confirmed - deaths - recovered\n",
    "\n",
    "# SIR model simulation.\n",
    "INIT_S = 68000.0\n",
    "INIT_I = 1.\n",
    "INIT_R = 0.\n",
    "BETA = 0.2\n",
    "GAMMA = 0.1\n",
    "DT = 1\n",
    "TN = len(confirmed) - 1\n",
    "\n",
    "R0 = BETA/GAMMA\n",
    "TR = 1.0/GAMMA\n",
    "\n",
    "s, i, r, t = sor_model(s_0=INIT_S, i_0=INIT_I, r_0=INIT_R, \n",
    "                         beta=BETA, gamma=GAMMA, t_n=TN, dt=DT)\n",
    "\n",
    "df = pd.DataFrame({\n",
    "            'Infected': infected.values,\n",
    "            'Recoverd': recovered.values,\n",
    "            'Susceptible by SIR model': s,\n",
    "            'Infected by SIR model': i,\n",
    "            'Recovered by SIR model': r\n",
    "        }, index=infected.index)\n",
    "df.plot()\n"
   ]
  },
  {
   "cell_type": "markdown",
   "metadata": {
    "id": "F76F9m6kJvPM"
   },
   "source": [
    "Based on the graph above, we can see that:\n",
    "* Actual Infected population doesn't match well with the SIR model.\n",
    "* Actual recovered population curve comes later than expected but becomes a lot sharper than expected.\n",
    "* The current model is not good enough for give country. A lot more modifications in the algorithm is required.\n"
   ]
  },
  {
   "cell_type": "markdown",
   "metadata": {
    "id": "NiFADxGsVCgv"
   },
   "source": [
    "# References\n",
    "[1] A Simple Example of a Mathematical Model: The Spread of an Infectious Disease. *Torkel Loman*, https://www.pathsense.eu/simple-example-mathematical-model-spread-infectious-disease/\n",
    "\n",
    "[2] Data Source: Center for Systems Science and Engineering (CSSE) at Johns Hopkins University, https://github.com/CSSEGISandData\n"
   ]
  },
  {
   "cell_type": "code",
   "execution_count": null,
   "metadata": {},
   "outputs": [],
   "source": []
  }
 ],
 "metadata": {
  "colab": {
   "collapsed_sections": [
    "p9T9ZBMmOwzM",
    "m37Mn1dxPNvl",
    "OHvLRMQkPjLI",
    "JsstQcdnRQPp",
    "x9gCFb06e9wm",
    "MCSN1Jk4MrU6",
    "xIF5HYXyNe-r",
    "3h8pPvzNzB39",
    "M2GK_T1UFbFc",
    "aZDkF6YazE5e",
    "NiFADxGsVCgv",
    "6xXrFlsvHbqy"
   ],
   "name": "Copy of CISC614Assignment1.ipynb",
   "provenance": []
  },
  "kernelspec": {
   "display_name": "Python 3 (ipykernel)",
   "language": "python",
   "name": "python3"
  },
  "language_info": {
   "codemirror_mode": {
    "name": "ipython",
    "version": 3
   },
   "file_extension": ".py",
   "mimetype": "text/x-python",
   "name": "python",
   "nbconvert_exporter": "python",
   "pygments_lexer": "ipython3",
   "version": "3.9.0"
  }
 },
 "nbformat": 4,
 "nbformat_minor": 1
}
