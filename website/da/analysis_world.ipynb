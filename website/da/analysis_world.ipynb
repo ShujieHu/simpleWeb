{
 "cells": [
  {
   "cell_type": "code",
   "execution_count": 13,
   "metadata": {},
   "outputs": [
    {
     "data": {
      "text/markdown": [
       "# Web-based Analysis of Spread of Covid-19 for country India"
      ],
      "text/plain": [
       "<IPython.core.display.Markdown object>"
      ]
     },
     "execution_count": 13,
     "metadata": {},
     "output_type": "execute_result"
    }
   ],
   "source": [
    "from IPython.display import Markdown as md\n",
    "import os\n",
    "import numpy as np\n",
    "import matplotlib.pyplot as plt\n",
    "import ssl\n",
    "import pandas as pd\n",
    "import os\n",
    "from datetime import datetime\n",
    "import statsmodels.formula.api as sm\n",
    "from sklearn.linear_model import LinearRegression\n",
    "ssl._create_default_https_context = ssl._create_unverified_context\n",
    "\n",
    "COUNTRY = os.getenv('NB_ARGS', 'China')\n",
    "if COUNTRY is None:\n",
    "    raise RuntimeError(\"No country is provided by the user! NOT running!\") \n",
    "md(f\"# Web-based Analysis of Spread of Covid-19 for country {COUNTRY}\")"
   ]
  },
  {
   "cell_type": "markdown",
   "metadata": {
    "id": "OHvLRMQkPjLI"
   },
   "source": [
    "## Introduction\n",
    "\n",
    "Based on Reference [1], an SIR (the Spread of an Infective Disease) model for infective disease is based on the following differential equations.\n",
    "\n",
    "${dS \\over dt} = -{\\beta I S \\over N} $ &nbsp;&nbsp;&nbsp;(1)\n",
    "\n",
    "${dI \\over dt} = {\\beta I S \\over N} - {\\gamma I} = ({\\beta S \\over N } - \\gamma)I  $  &nbsp;&nbsp;&nbsp;(2)\n",
    "\n",
    "${dR \\over dt} = {\\gamma I}  $  &nbsp;&nbsp;&nbsp;(3)\n",
    "\n",
    "where\n",
    "* $S$ is the initial susceptible population\n",
    "* $I$ is the initial infected population\n",
    "* $R$ is the initial recovered population\n",
    "* $N$ is the initial sum of $S$, $I$, $R$ and will remain constants\n",
    "\n",
    "## Estimations of the parameters\n",
    "\n",
    "In the initial stage, since $I$ is very small, and $R$ can be assumed to be 0. so $S_0$ is very close to $N$. Therefore, it is reasonable to use the whole population for the estimation of $S_0$. $I_0$ to be 1, and $R_0$ to be 0. And, we have the following estimates.\n",
    "\n",
    "${dS \\over dt} = -{\\beta I S \\over N} \\approx {\\beta I} $  &nbsp;&nbsp;&nbsp; (4)  &nbsp;&nbsp;&nbsp; since in the beginning, S is very close to N\n",
    "\n",
    "${dI \\over dt} = {\\beta I S \\over N} - {\\gamma I} = ({\\beta S \\over N } - \\gamma)I = {m} I $  &nbsp;&nbsp;&nbsp; (5)  &nbsp;&nbsp;&nbsp; where m=${\\beta S \\over N } - \\gamma $\n",
    "\n",
    "${dR \\over dt} = {\\gamma I}  $   &nbsp;&nbsp;&nbsp;(6)\n",
    "\n",
    "Due to the observation that\n",
    "\n",
    "${dS \\over dt}+{dI \\over dt}+{dR \\over dt}=0$\n",
    "\n",
    "$\\beta$ and $\\gamma$ are directly related to the basic reproduction number\n",
    "$R_0$ and typical time until recovery $T_r$ in the following formula:\n",
    "\n",
    "$R_0={\\beta \\over \\gamma}$\n",
    "\n",
    "$T_r = {\\gamma}^{-1}$. \n",
    "\n",
    "\n",
    "And it is well known that recovery time is more or less the same across different countries, which is about 14 days. We can get the $\\gamma$ value to be 1/14 $\\approx $ 0.07.\n",
    "\n",
    "Since from equation (4), we can get \n",
    "${dI \\over I} = {m dt} => {ln I(t) = ln I_0 + mt}$\n",
    "\n",
    "So by taking the logrithm of the infected number of cases, and do a linear fit, we can have a good estimation of m. Thus, it will be easy to calculate the $\\beta$.\n",
    "The SIR model lies on a few assumptions:\n",
    "* $R_0$ and $T_r$ is constant through the whole simulation process.\n",
    "* There is no/few deaths from the disease so that $N$ is constant through the process.\n",
    "* Recovered population will get immune to the spread of the disease."
   ]
  },
  {
   "cell_type": "code",
   "execution_count": 14,
   "metadata": {
    "id": "YF8xy-ZgWbI4"
   },
   "outputs": [],
   "source": [
    "country_population = pd.read_csv('/Users/shujie/Documents/Documents/CPT_HU/Semester6/CISC699/project/app4/website/da/world_population.csv')\n",
    "# Initial value S will be the total population for that country\n",
    "INIT_S = int(country_population[(country_population['Country Name']==COUNTRY) & (country_population['Series Code']=='SP.POP.TOTL')].iloc[0,-1])\n",
    "INIT_I = 1\n",
    "INIT_R = 0\n",
    "GAMMA = 0.07 # it normally takes about 14 days for a person to recover, thus beta = 1/14 = 0.07\n",
    "#based on old values, calculate new values for time change dt\n",
    "def s_new(s_old, i_old, beta, n, dt):\n",
    "    \"\"\"\n",
    "    Computes S value for the next timestep, based on\n",
    "    s_old : current S value\n",
    "    i_old : current I value\n",
    "    beta : R0 * gamma\n",
    "    n: sum of S, I and R, which is constant through the whole time\n",
    "    dt : timestep\n",
    "    \"\"\"\n",
    "    return s_old - beta * i_old * s_old / n * dt\n",
    "\n",
    "def i_new(s_old, i_old, beta, gamma, n, dt):\n",
    "\n",
    "    \"\"\"\n",
    "    Computes I value for the next timestep, based on\n",
    "    i_old : current I value\n",
    "    s_old : current S value\n",
    "    beta : R0 * gamma\n",
    "    gamma : inverse of Tr (typical time until recovery)\n",
    "    n: sum of S, I and R, which is constant through the whole time\n",
    "    dt : timestep\n",
    "    \"\"\"\n",
    "    return i_old + (beta * i_old * s_old / n - gamma * i_old) * dt\n",
    "\n",
    "def r_new(i_old, r_old, gamma, dt):\n",
    "    \"\"\"\n",
    "    Computes R value for the next timestep, based on\n",
    "    i_old : current I value\n",
    "    s_old : current R value\n",
    "    gamma : inverse of Tr (typical time until recovery)\n",
    "    dt : timestep\n",
    "    \"\"\"\n",
    "    return r_old + gamma * i_old * dt\n",
    "\n",
    "\n",
    "# Solve the problem with iterations.\n",
    "def sir_model(s_0, i_0, r_0, beta, gamma, t_n, dt):\n",
    "    \"\"\"\n",
    "    s_0, i_0, r_0 : initial values for s, i, r\n",
    "    beta : R0 * gamma\n",
    "    gamma : inverse of Tr (typical time until recovery)\n",
    "    t_n : final time step\n",
    "    dt : timestep\n",
    "    Returns four numpy arrays, s, i, r, t.\n",
    "    \"\"\"\n",
    "  \n",
    "    # Calculate # of timesteps and prepare result t array.\n",
    "    num_timesteps = int(t_n / dt) + 1\n",
    "    t = np.arange(start=0.0, stop=t_n+dt, step=dt)\n",
    "\n",
    "    # Initialize result arrays.\n",
    "    s = np.zeros(num_timesteps, dtype=float)\n",
    "    i = np.zeros(num_timesteps, dtype=float)\n",
    "    r = np.zeros(num_timesteps, dtype=float)\n",
    "\n",
    "    # Store the initial SIR populations.\n",
    "    s[0] = s_0\n",
    "    i[0] = i_0\n",
    "    r[0] = r_0\n",
    "    n = s_0 + i_0 + r_0\n",
    "\n",
    "    # Iterate!\n",
    "    for iter in np.arange(1, num_timesteps):\n",
    "        s[iter] = s_new(s_old=s[iter-1], i_old=i[iter-1], beta=beta,\n",
    "                        n=n, dt=dt)\n",
    "        i[iter] = i_new(s_old=s[iter-1], i_old=i[iter-1], beta=beta,\n",
    "                        gamma=gamma, n=n, dt=dt)\n",
    "        r[iter] = r_new(i_old=i[iter-1], r_old=r[iter-1], gamma=gamma, dt=dt)\n",
    "    return s, i, r, t\n",
    "\n",
    "def plot_series(t, series_list, series_labels, \n",
    "                xlabel, ylabel, title):\n",
    "    \"\"\"\n",
    "    series_list : list of numpy results to plot\n",
    "    series_labels : list of labels for above series_list\n",
    "    xlabel, ylabel : label for x and y axes respectiely\n",
    "    title : plot title\n",
    "    \"\"\"\n",
    "    for series, label in zip(series_list, series_labels):\n",
    "      plt.plot(t, series, label=label)\n",
    "    plt.legend()\n",
    "    plt.xlabel(xlabel)\n",
    "    plt.ylabel(ylabel)\n",
    "    plt.title(title)\n",
    "    plt.show()\n",
    "    \n",
    "def calculate_beta(m, gamma):\n",
    "    return m + gamma"
   ]
  },
  {
   "cell_type": "code",
   "execution_count": 20,
   "metadata": {
    "colab": {
     "base_uri": "https://localhost:8080/",
     "height": 358
    },
    "id": "XXWi13JApysQ",
    "outputId": "eb67e93c-1fe2-4903-b230-2a707c196d78"
   },
   "outputs": [],
   "source": [
    "url = 'https://raw.githubusercontent.com/CSSEGISandData/COVID-19/master/csse_covid_19_data/csse_covid_19_time_series/time_series_covid19_{}_global.csv'\n",
    "\n",
    "confirmed_cases = pd.read_csv(url.format('confirmed'))\n",
    "confirmed_cases = confirmed_cases[confirmed_cases['Country/Region'] == COUNTRY]\n",
    "\n",
    "death_cases = pd.read_csv(url.format('deaths'))\n",
    "death_cases = death_cases[death_cases['Country/Region'] == COUNTRY]              \n",
    "recorvered_cases = pd.read_csv(url.format('recovered'))\n",
    "recorvered_cases = recorvered_cases[recorvered_cases['Country/Region'] == COUNTRY]              \n",
    "if (not len(death_cases) or not len(confirmed_cases) or not len(recorvered_cases)):\n",
    "    md(\"No record found for provided country '{}'\".format(COUNTRY))\n",
    "    raise RuntimeError(\"No record found for provided country '{}'\".format(COUNTRY))\n",
    "                          \n",
    "# Filter out the global covid-19 cases by targeted country\n",
    "# Right now, I am choosing Feb. 28 2021 as the hard date since this is when mrna vaccination started\n",
    "# '1/22/2020' is the date of the first report\n",
    "start_date = '1/22/20'\n",
    "# end_date = '4/28/21'\n",
    "end_date = '11/17/20'\n",
    "\n",
    "confirmed = confirmed_cases.iloc[0].loc[:end_date][4:]\n",
    "deaths = death_cases.iloc[0].loc[:end_date][4:]\n",
    "recovered = recorvered_cases.iloc[0].loc[:end_date][4:]\n",
    "\n",
    "infected = confirmed - deaths - recovered\n",
    "\n",
    "DT = 1\n",
    "TN = len(confirmed) - 1\n",
    "\n",
    "# R0 = BETA/GAMMA\n",
    "# TR = 1.0/GAMMA\n",
    "\n",
    "df = pd.DataFrame({\n",
    "    'Infected': infected.values,\n",
    "    'Recoverd': recovered.values,\n",
    "}, index=infected.index)"
   ]
  },
  {
   "cell_type": "code",
   "execution_count": 21,
   "metadata": {},
   "outputs": [
    {
     "name": "stdout",
     "output_type": "stream",
     "text": [
      "beta is 0.11738727701792415\n"
     ]
    }
   ],
   "source": [
    "df['Log_Infected']=np.log10(df['Infected'].astype(int).replace(0, np.nan))\n",
    "df = df.rename_axis('time').reset_index()\n",
    "df_no_na = df[df['Log_Infected'].notna()]\n",
    "df_no_na = df_no_na.rename_axis('days_elapse').reset_index()\n",
    "result = sm.ols(formula=\"Log_Infected ~ days_elapse\", data=df_no_na[:100]).fit()\n",
    "result.params\n",
    "m = result.params['days_elapse']\n",
    "BETA = calculate_beta(m, GAMMA)\n",
    "print(\"beta is\", BETA)"
   ]
  },
  {
   "cell_type": "code",
   "execution_count": 17,
   "metadata": {},
   "outputs": [
    {
     "data": {
      "text/html": [
       "<table class=\"simpletable\">\n",
       "<caption>OLS Regression Results</caption>\n",
       "<tr>\n",
       "  <th>Dep. Variable:</th>      <td>Log_Infected</td>   <th>  R-squared:         </th> <td>   0.960</td>\n",
       "</tr>\n",
       "<tr>\n",
       "  <th>Model:</th>                   <td>OLS</td>       <th>  Adj. R-squared:    </th> <td>   0.960</td>\n",
       "</tr>\n",
       "<tr>\n",
       "  <th>Method:</th>             <td>Least Squares</td>  <th>  F-statistic:       </th> <td>   2366.</td>\n",
       "</tr>\n",
       "<tr>\n",
       "  <th>Date:</th>             <td>Mon, 29 Nov 2021</td> <th>  Prob (F-statistic):</th> <td>1.96e-70</td>\n",
       "</tr>\n",
       "<tr>\n",
       "  <th>Time:</th>                 <td>23:49:25</td>     <th>  Log-Likelihood:    </th> <td> -26.830</td>\n",
       "</tr>\n",
       "<tr>\n",
       "  <th>No. Observations:</th>      <td>   100</td>      <th>  AIC:               </th> <td>   57.66</td>\n",
       "</tr>\n",
       "<tr>\n",
       "  <th>Df Residuals:</th>          <td>    98</td>      <th>  BIC:               </th> <td>   62.87</td>\n",
       "</tr>\n",
       "<tr>\n",
       "  <th>Df Model:</th>              <td>     1</td>      <th>                     </th>     <td> </td>   \n",
       "</tr>\n",
       "<tr>\n",
       "  <th>Covariance Type:</th>      <td>nonrobust</td>    <th>                     </th>     <td> </td>   \n",
       "</tr>\n",
       "</table>\n",
       "<table class=\"simpletable\">\n",
       "<tr>\n",
       "       <td></td>          <th>coef</th>     <th>std err</th>      <th>t</th>      <th>P>|t|</th>  <th>[0.025</th>    <th>0.975]</th>  \n",
       "</tr>\n",
       "<tr>\n",
       "  <th>Intercept</th>   <td>   -0.3661</td> <td>    0.075</td> <td>   -4.864</td> <td> 0.000</td> <td>   -0.515</td> <td>   -0.217</td>\n",
       "</tr>\n",
       "<tr>\n",
       "  <th>days_elapse</th> <td>    0.0474</td> <td>    0.001</td> <td>   48.644</td> <td> 0.000</td> <td>    0.045</td> <td>    0.049</td>\n",
       "</tr>\n",
       "</table>\n",
       "<table class=\"simpletable\">\n",
       "<tr>\n",
       "  <th>Omnibus:</th>       <td>29.016</td> <th>  Durbin-Watson:     </th> <td>   0.218</td>\n",
       "</tr>\n",
       "<tr>\n",
       "  <th>Prob(Omnibus):</th> <td> 0.000</td> <th>  Jarque-Bera (JB):  </th> <td>  56.902</td>\n",
       "</tr>\n",
       "<tr>\n",
       "  <th>Skew:</th>          <td>-1.144</td> <th>  Prob(JB):          </th> <td>4.40e-13</td>\n",
       "</tr>\n",
       "<tr>\n",
       "  <th>Kurtosis:</th>      <td> 5.902</td> <th>  Cond. No.          </th> <td>    182.</td>\n",
       "</tr>\n",
       "</table><br/><br/>Notes:<br/>[1] Standard Errors assume that the covariance matrix of the errors is correctly specified."
      ],
      "text/plain": [
       "<class 'statsmodels.iolib.summary.Summary'>\n",
       "\"\"\"\n",
       "                            OLS Regression Results                            \n",
       "==============================================================================\n",
       "Dep. Variable:           Log_Infected   R-squared:                       0.960\n",
       "Model:                            OLS   Adj. R-squared:                  0.960\n",
       "Method:                 Least Squares   F-statistic:                     2366.\n",
       "Date:                Mon, 29 Nov 2021   Prob (F-statistic):           1.96e-70\n",
       "Time:                        23:49:25   Log-Likelihood:                -26.830\n",
       "No. Observations:                 100   AIC:                             57.66\n",
       "Df Residuals:                      98   BIC:                             62.87\n",
       "Df Model:                           1                                         \n",
       "Covariance Type:            nonrobust                                         \n",
       "===============================================================================\n",
       "                  coef    std err          t      P>|t|      [0.025      0.975]\n",
       "-------------------------------------------------------------------------------\n",
       "Intercept      -0.3661      0.075     -4.864      0.000      -0.515      -0.217\n",
       "days_elapse     0.0474      0.001     48.644      0.000       0.045       0.049\n",
       "==============================================================================\n",
       "Omnibus:                       29.016   Durbin-Watson:                   0.218\n",
       "Prob(Omnibus):                  0.000   Jarque-Bera (JB):               56.902\n",
       "Skew:                          -1.144   Prob(JB):                     4.40e-13\n",
       "Kurtosis:                       5.902   Cond. No.                         182.\n",
       "==============================================================================\n",
       "\n",
       "Notes:\n",
       "[1] Standard Errors assume that the covariance matrix of the errors is correctly specified.\n",
       "\"\"\""
      ]
     },
     "execution_count": 17,
     "metadata": {},
     "output_type": "execute_result"
    }
   ],
   "source": [
    "result.summary()"
   ]
  },
  {
   "cell_type": "code",
   "execution_count": 18,
   "metadata": {},
   "outputs": [
    {
     "data": {
      "text/plain": [
       "<AxesSubplot:>"
      ]
     },
     "execution_count": 18,
     "metadata": {},
     "output_type": "execute_result"
    },
    {
     "data": {
      "image/png": "[encoded data removed]",
      "text/plain": [
       "<Figure size 432x288 with 1 Axes>"
      ]
     },
     "metadata": {
      "needs_background": "light"
     },
     "output_type": "display_data"
    }
   ],
   "source": [
    "s, i, r, t = sir_model(s_0=INIT_S, i_0=INIT_I, r_0=INIT_R, \n",
    "                         beta=BETA, gamma=GAMMA, t_n=TN, dt=DT)\n",
    "\n",
    "df_model = pd.DataFrame({\n",
    "            'Infected': infected.values,\n",
    "            'Recoverd': recovered.values,\n",
    "            'Infected by SIR model': i,\n",
    "            'Recovered by SIR model': r\n",
    "        }, index=infected.index)\n",
    "df_model.plot()"
   ]
  },
  {
   "cell_type": "markdown",
   "metadata": {
    "id": "F76F9m6kJvPM"
   },
   "source": [
    "Based on the graph above, we can see that:\n",
    "* Actual Infected population doesn't match well with the SIR model.\n",
    "* Actual recovered population curve comes later than expected but becomes a lot sharper than expected.\n",
    "* The current model is not good enough for give country. A lot more modifications in the algorithm is required.\n"
   ]
  },
  {
   "cell_type": "markdown",
   "metadata": {
    "id": "NiFADxGsVCgv"
   },
   "source": [
    "# References\n",
    "[1] A Simple Example of a Mathematical Model: The Spread of an Infectious Disease. *Torkel Loman*, https://www.pathsense.eu/simple-example-mathematical-model-spread-infectious-disease/\n",
    "\n",
    "[2] Data Source: Center for Systems Science and Engineering (CSSE) at Johns Hopkins University, https://github.com/CSSEGISandData\n"
   ]
  },
  {
   "cell_type": "code",
   "execution_count": null,
   "metadata": {},
   "outputs": [],
   "source": []
  }
 ],
 "metadata": {
  "colab": {
   "collapsed_sections": [
    "p9T9ZBMmOwzM",
    "m37Mn1dxPNvl",
    "OHvLRMQkPjLI",
    "JsstQcdnRQPp",
    "x9gCFb06e9wm",
    "MCSN1Jk4MrU6",
    "xIF5HYXyNe-r",
    "3h8pPvzNzB39",
    "M2GK_T1UFbFc",
    "aZDkF6YazE5e",
    "NiFADxGsVCgv",
    "6xXrFlsvHbqy"
   ],
   "name": "Copy of CISC614Assignment1.ipynb",
   "provenance": []
  },
  "kernelspec": {
   "display_name": "Python 3",
   "language": "python",
   "name": "python3"
  },
  "language_info": {
   "codemirror_mode": {
    "name": "ipython",
    "version": 3
   },
   "file_extension": ".py",
   "mimetype": "text/x-python",
   "name": "python",
   "nbconvert_exporter": "python",
   "pygments_lexer": "ipython3",
   "version": "3.8.8"
  }
 },
 "nbformat": 4,
 "nbformat_minor": 1
}
