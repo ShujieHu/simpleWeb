{
 "cells": [
  {
   "cell_type": "code",
<<<<<<< HEAD
   "execution_count": 2,
   "metadata": {},
   "outputs": [
    {
     "ename": "RuntimeError",
     "evalue": "No country is provided by the user! NOT running!",
     "output_type": "error",
     "traceback": [
      "\u001b[0;31m---------------------------------------------------------------------------\u001b[0m",
      "\u001b[0;31mRuntimeError\u001b[0m                              Traceback (most recent call last)",
      "\u001b[0;32m/var/folders/rb/0jd28ytd1rdgghqdf44lhr400000gn/T/ipykernel_48083/1505446163.py\u001b[0m in \u001b[0;36m<module>\u001b[0;34m\u001b[0m\n\u001b[1;32m     11\u001b[0m \u001b[0mCOUNTRY\u001b[0m \u001b[0;34m=\u001b[0m \u001b[0mos\u001b[0m\u001b[0;34m.\u001b[0m\u001b[0mgetenv\u001b[0m\u001b[0;34m(\u001b[0m\u001b[0;34m'NB_ARGS'\u001b[0m\u001b[0;34m,\u001b[0m \u001b[0;32mNone\u001b[0m\u001b[0;34m)\u001b[0m\u001b[0;34m\u001b[0m\u001b[0;34m\u001b[0m\u001b[0m\n\u001b[1;32m     12\u001b[0m \u001b[0;32mif\u001b[0m \u001b[0mCOUNTRY\u001b[0m \u001b[0;32mis\u001b[0m \u001b[0;32mNone\u001b[0m\u001b[0;34m:\u001b[0m\u001b[0;34m\u001b[0m\u001b[0;34m\u001b[0m\u001b[0m\n\u001b[0;32m---> 13\u001b[0;31m     \u001b[0;32mraise\u001b[0m \u001b[0mRuntimeError\u001b[0m\u001b[0;34m(\u001b[0m\u001b[0;34m\"No country is provided by the user! NOT running!\"\u001b[0m\u001b[0;34m)\u001b[0m\u001b[0;34m\u001b[0m\u001b[0;34m\u001b[0m\u001b[0m\n\u001b[0m\u001b[1;32m     14\u001b[0m \u001b[0mmd\u001b[0m\u001b[0;34m(\u001b[0m\u001b[0;34mf\"# Web-based Analysis of Spread of Covid-19 for country {COUNTRY}\"\u001b[0m\u001b[0;34m)\u001b[0m\u001b[0;34m\u001b[0m\u001b[0;34m\u001b[0m\u001b[0m\n",
      "\u001b[0;31mRuntimeError\u001b[0m: No country is provided by the user! NOT running!"
     ]
=======
   "execution_count": 12,
   "metadata": {},
   "outputs": [
    {
     "data": {
      "text/markdown": [
       "# Web-based Analysis of Spread of Covid-19 for country Germany"
      ],
      "text/plain": [
       "<IPython.core.display.Markdown object>"
      ]
     },
     "execution_count": 12,
     "metadata": {},
     "output_type": "execute_result"
>>>>>>> e468c19 (finish milestone2)
    }
   ],
   "source": [
    "from IPython.display import Markdown as md\n",
    "import os\n",
    "import numpy as np\n",
    "import matplotlib.pyplot as plt\n",
    "import ssl\n",
    "import pandas as pd\n",
    "import os\n",
    "from datetime import datetime\n",
<<<<<<< HEAD
    "ssl._create_default_https_context = ssl._create_unverified_context\n",
    "\n",
    "COUNTRY = os.getenv('NB_ARGS', None)\n",
=======
    "import statsmodels.formula.api as sm\n",
    "from sklearn.linear_model import LinearRegression\n",
    "ssl._create_default_https_context = ssl._create_unverified_context\n",
    "\n",
    "COUNTRY = os.getenv('NB_ARGS', 'Germany')\n",
>>>>>>> e468c19 (finish milestone2)
    "if COUNTRY is None:\n",
    "    raise RuntimeError(\"No country is provided by the user! NOT running!\") \n",
    "md(f\"# Web-based Analysis of Spread of Covid-19 for country {COUNTRY}\")"
   ]
  },
  {
   "cell_type": "markdown",
   "metadata": {
    "id": "OHvLRMQkPjLI"
   },
   "source": [
    "## Introduction\n",
    "\n",
    "Based on Reference [1], an SIR (the Spread of an Infective Disease) model for infective disease is based on the following differential equations.\n",
    "\n",
<<<<<<< HEAD
    "${dS \\over dt} = -{\\beta I S \\over N}$\n",
    "\n",
    "${dI \\over dt} = {\\beta I S \\over N} - {\\gamma I}$\n",
    "\n",
    "${dR \\over dt} = {\\gamma I}$\n",
=======
    "${dS \\over dt} = -{\\beta I S \\over N} $ &nbsp;&nbsp;&nbsp;(1)\n",
    "\n",
    "${dI \\over dt} = {\\beta I S \\over N} - {\\gamma I} = ({\\beta S \\over N } - \\gamma)I  $  &nbsp;&nbsp;&nbsp;(2)\n",
    "\n",
    "${dR \\over dt} = {\\gamma I}  $  &nbsp;&nbsp;&nbsp;(3)\n",
>>>>>>> e468c19 (finish milestone2)
    "\n",
    "where\n",
    "* $S$ is the initial susceptible population\n",
    "* $I$ is the initial infected population\n",
    "* $R$ is the initial recovered population\n",
    "* $N$ is the initial sum of $S$, $I$, $R$ and will remain constants\n",
    "\n",
<<<<<<< HEAD
    "due to the observation that\n",
=======
    "## Estimations of the parameters\n",
    "\n",
    "In the initial stage, since $I$ is very small, and $R$ can be assumed to be 0. so $S_0$ is very close to $N$. Therefore, it is reasonable to use the whole population for the estimation of $S_0$. $I_0$ to be 1, and $R_0$ to be 0. And, we have the following estimates.\n",
    "\n",
    "${dS \\over dt} = -{\\beta I S \\over N} \\approx {\\beta I} $  &nbsp;&nbsp;&nbsp; (4)  &nbsp;&nbsp;&nbsp; since in the beginning, S is very close to N\n",
    "\n",
    "${dI \\over dt} = {\\beta I S \\over N} - {\\gamma I} = ({\\beta S \\over N } - \\gamma)I = {m} I $  &nbsp;&nbsp;&nbsp; (5)  &nbsp;&nbsp;&nbsp; where m=${\\beta S \\over N } - \\gamma $\n",
    "\n",
    "${dR \\over dt} = {\\gamma I}  $   &nbsp;&nbsp;&nbsp;(6)\n",
    "\n",
    "Due to the observation that\n",
>>>>>>> e468c19 (finish milestone2)
    "\n",
    "${dS \\over dt}+{dI \\over dt}+{dR \\over dt}=0$\n",
    "\n",
    "$\\beta$ and $\\gamma$ are directly related to the basic reproduction number\n",
    "$R_0$ and typical time until recovery $T_r$ in the following formula:\n",
    "\n",
    "$R_0={\\beta \\over \\gamma}$\n",
    "\n",
<<<<<<< HEAD
    "$T_r = {\\gamma}^{-1}$\n",
    "\n",
=======
    "$T_r = {\\gamma}^{-1}$. \n",
    "\n",
    "\n",
    "And it is well known that recovery time is more or less the same across different countries, which is about 14 days. We can get the $\\gamma$ value to be 1/14 $\\approx $ 0.07.\n",
    "\n",
    "Since from equation (4), we can get \n",
    "${dI \\over I} = {m dt} => {ln I(t) = ln I_0 + mt}$\n",
    "\n",
    "So by taking the logrithm of the infected number of cases, and do a linear fit, we can have a good estimation of m. Thus, it will be easy to calculate the $\\beta$.\n",
>>>>>>> e468c19 (finish milestone2)
    "The SIR model lies on a few assumptions:\n",
    "* $R_0$ and $T_r$ is constant through the whole simulation process.\n",
    "* There is no/few deaths from the disease so that $N$ is constant through the process.\n",
    "* Recovered population will get immune to the spread of the disease."
   ]
  },
  {
<<<<<<< HEAD
   "cell_type": "markdown",
   "metadata": {
    "id": "JsstQcdnRQPp"
   },
   "source": [
    "# Methods (Implementations of SIR model)\n",
    "The model is implemented and tested based on finite difference represetation of the above differential equations. Specifically, the three core finite difference equations are listed below: \n",
    "\n",
    "$S^{t+\\Delta t} \\approx S^{t}-{\\beta I^{t} S^{t} \\over N}\\Delta t$\n",
    "\n",
    "$I^{t+\\Delta t} \\approx I^{t}+({\\beta I^{t} S^{t} \\over N} - \\gamma I^{t})\\Delta t$\n",
    "\n",
    "$R^{t+\\Delta t} \\approx R^{t}+ \\gamma I^t\\Delta t$\n",
    "\n",
    "Therefore, I can implement the iterative algorithm based on the initial values of $s_0$, $i_0$, $r_0$ and parameters $\\beta$ and $\\gamma$ similar to Reference [2].\n"
   ]
  },
  {
   "cell_type": "code",
   "execution_count": 1,
=======
   "cell_type": "code",
   "execution_count": 13,
>>>>>>> e468c19 (finish milestone2)
   "metadata": {
    "id": "YF8xy-ZgWbI4"
   },
   "outputs": [],
   "source": [
<<<<<<< HEAD
    "# based on old values, calculate new values for time change dt\n",
=======
    "country_population = pd.read_csv('/Users/shujie/Documents/Documents/CPT_HU/Semester6/CISC699/project/app4/website/da/world_population.csv')\n",
    "# Initial value S will be the total population for that country\n",
    "INIT_S = int(country_population[(country_population['Country Name']==COUNTRY) & (country_population['Series Code']=='SP.POP.TOTL')].iloc[0,-1])\n",
    "INIT_I = 1\n",
    "INIT_R = 0\n",
    "GAMMA = 0.07 # it normally takes about 14 days for a person to recover, thus beta = 1/14 = 0.07\n",
    "#based on old values, calculate new values for time change dt\n",
>>>>>>> e468c19 (finish milestone2)
    "def s_new(s_old, i_old, beta, n, dt):\n",
    "    \"\"\"\n",
    "    Computes S value for the next timestep, based on\n",
    "    s_old : current S value\n",
    "    i_old : current I value\n",
    "    beta : R0 * gamma\n",
    "    n: sum of S, I and R, which is constant through the whole time\n",
    "    dt : timestep\n",
    "    \"\"\"\n",
    "    return s_old - beta * i_old * s_old / n * dt\n",
    "\n",
    "def i_new(s_old, i_old, beta, gamma, n, dt):\n",
    "\n",
    "    \"\"\"\n",
    "    Computes I value for the next timestep, based on\n",
    "    i_old : current I value\n",
    "    s_old : current S value\n",
    "    beta : R0 * gamma\n",
    "    gamma : inverse of Tr (typical time until recovery)\n",
    "    n: sum of S, I and R, which is constant through the whole time\n",
    "    dt : timestep\n",
    "    \"\"\"\n",
    "    return i_old + (beta * i_old * s_old / n - gamma * i_old) * dt\n",
    "\n",
    "def r_new(i_old, r_old, gamma, dt):\n",
    "    \"\"\"\n",
    "    Computes R value for the next timestep, based on\n",
    "    i_old : current I value\n",
    "    s_old : current R value\n",
    "    gamma : inverse of Tr (typical time until recovery)\n",
    "    dt : timestep\n",
    "    \"\"\"\n",
    "    return r_old + gamma * i_old * dt\n",
    "\n",
    "\n",
    "# Solve the problem with iterations.\n",
<<<<<<< HEAD
    "def sor_model(s_0, i_0, r_0, beta, gamma, t_n, dt):\n",
=======
    "def sir_model(s_0, i_0, r_0, beta, gamma, t_n, dt):\n",
>>>>>>> e468c19 (finish milestone2)
    "    \"\"\"\n",
    "    s_0, i_0, r_0 : initial values for s, i, r\n",
    "    beta : R0 * gamma\n",
    "    gamma : inverse of Tr (typical time until recovery)\n",
    "    t_n : final time step\n",
    "    dt : timestep\n",
    "    Returns four numpy arrays, s, i, r, t.\n",
    "    \"\"\"\n",
    "  \n",
    "    # Calculate # of timesteps and prepare result t array.\n",
    "    num_timesteps = int(t_n / dt) + 1\n",
    "    t = np.arange(start=0.0, stop=t_n+dt, step=dt)\n",
    "\n",
    "    # Initialize result arrays.\n",
    "    s = np.zeros(num_timesteps, dtype=float)\n",
    "    i = np.zeros(num_timesteps, dtype=float)\n",
    "    r = np.zeros(num_timesteps, dtype=float)\n",
    "\n",
    "    # Store the initial SIR populations.\n",
    "    s[0] = s_0\n",
    "    i[0] = i_0\n",
    "    r[0] = r_0\n",
    "    n = s_0 + i_0 + r_0\n",
    "\n",
    "    # Iterate!\n",
    "    for iter in np.arange(1, num_timesteps):\n",
    "        s[iter] = s_new(s_old=s[iter-1], i_old=i[iter-1], beta=beta,\n",
    "                        n=n, dt=dt)\n",
    "        i[iter] = i_new(s_old=s[iter-1], i_old=i[iter-1], beta=beta,\n",
    "                        gamma=gamma, n=n, dt=dt)\n",
    "        r[iter] = r_new(i_old=i[iter-1], r_old=r[iter-1], gamma=gamma, dt=dt)\n",
    "    return s, i, r, t\n",
    "\n",
    "def plot_series(t, series_list, series_labels, \n",
    "                xlabel, ylabel, title):\n",
    "    \"\"\"\n",
    "    series_list : list of numpy results to plot\n",
    "    series_labels : list of labels for above series_list\n",
    "    xlabel, ylabel : label for x and y axes respectiely\n",
    "    title : plot title\n",
    "    \"\"\"\n",
    "    for series, label in zip(series_list, series_labels):\n",
    "      plt.plot(t, series, label=label)\n",
    "    plt.legend()\n",
    "    plt.xlabel(xlabel)\n",
    "    plt.ylabel(ylabel)\n",
    "    plt.title(title)\n",
<<<<<<< HEAD
    "    plt.show()"
=======
    "    plt.show()\n",
    "    \n",
    "def calculate_beta(m, gamma):\n",
    "    return m + gamma"
>>>>>>> e468c19 (finish milestone2)
   ]
  },
  {
   "cell_type": "code",
<<<<<<< HEAD
   "execution_count": 1,
=======
   "execution_count": 14,
>>>>>>> e468c19 (finish milestone2)
   "metadata": {
    "colab": {
     "base_uri": "https://localhost:8080/",
     "height": 358
    },
    "id": "XXWi13JApysQ",
    "outputId": "eb67e93c-1fe2-4903-b230-2a707c196d78"
   },
<<<<<<< HEAD
   "outputs": [
    {
     "ename": "NameError",
     "evalue": "name 'pd' is not defined",
     "output_type": "error",
     "traceback": [
      "\u001b[0;31m---------------------------------------------------------------------------\u001b[0m",
      "\u001b[0;31mNameError\u001b[0m                                 Traceback (most recent call last)",
      "\u001b[0;32m/var/folders/rb/0jd28ytd1rdgghqdf44lhr400000gn/T/ipykernel_48083/780124769.py\u001b[0m in \u001b[0;36m<module>\u001b[0;34m\u001b[0m\n\u001b[1;32m      1\u001b[0m \u001b[0murl\u001b[0m \u001b[0;34m=\u001b[0m \u001b[0;34m'https://raw.githubusercontent.com/CSSEGISandData/COVID-19/master/csse_covid_19_data/csse_covid_19_time_series/time_series_covid19_{}_global.csv'\u001b[0m\u001b[0;34m\u001b[0m\u001b[0;34m\u001b[0m\u001b[0m\n\u001b[1;32m      2\u001b[0m \u001b[0;34m\u001b[0m\u001b[0m\n\u001b[0;32m----> 3\u001b[0;31m \u001b[0mconfirmed_cases\u001b[0m \u001b[0;34m=\u001b[0m \u001b[0mpd\u001b[0m\u001b[0;34m.\u001b[0m\u001b[0mread_csv\u001b[0m\u001b[0;34m(\u001b[0m\u001b[0murl\u001b[0m\u001b[0;34m.\u001b[0m\u001b[0mformat\u001b[0m\u001b[0;34m(\u001b[0m\u001b[0;34m'confirmed'\u001b[0m\u001b[0;34m)\u001b[0m\u001b[0;34m)\u001b[0m\u001b[0;34m\u001b[0m\u001b[0;34m\u001b[0m\u001b[0m\n\u001b[0m\u001b[1;32m      4\u001b[0m \u001b[0mconfirmed_cases\u001b[0m \u001b[0;34m=\u001b[0m \u001b[0mconfirmed_cases\u001b[0m\u001b[0;34m[\u001b[0m\u001b[0mconfirmed_cases\u001b[0m\u001b[0;34m[\u001b[0m\u001b[0;34m'Country/Region'\u001b[0m\u001b[0;34m]\u001b[0m \u001b[0;34m==\u001b[0m \u001b[0mCOUNTRY\u001b[0m\u001b[0;34m]\u001b[0m\u001b[0;34m\u001b[0m\u001b[0;34m\u001b[0m\u001b[0m\n\u001b[1;32m      5\u001b[0m \u001b[0;34m\u001b[0m\u001b[0m\n",
      "\u001b[0;31mNameError\u001b[0m: name 'pd' is not defined"
     ]
    }
   ],
=======
   "outputs": [],
>>>>>>> e468c19 (finish milestone2)
   "source": [
    "url = 'https://raw.githubusercontent.com/CSSEGISandData/COVID-19/master/csse_covid_19_data/csse_covid_19_time_series/time_series_covid19_{}_global.csv'\n",
    "\n",
    "confirmed_cases = pd.read_csv(url.format('confirmed'))\n",
    "confirmed_cases = confirmed_cases[confirmed_cases['Country/Region'] == COUNTRY]\n",
    "\n",
    "death_cases = pd.read_csv(url.format('deaths'))\n",
    "death_cases = death_cases[death_cases['Country/Region'] == COUNTRY]              \n",
    "recorvered_cases = pd.read_csv(url.format('recovered'))\n",
    "recorvered_cases = recorvered_cases[recorvered_cases['Country/Region'] == COUNTRY]              \n",
    "if (not len(death_cases) or not len(confirmed_cases) or not len(recorvered_cases)):\n",
    "    md(\"No record found for provided country '{}'\".format(COUNTRY))\n",
    "    raise RuntimeError(\"No record found for provided country '{}'\".format(COUNTRY))\n",
    "                          \n",
    "# Filter out the global covid-19 cases by targeted country\n",
    "# Right now, I am choosing Feb. 28 2021 as the hard date since this is when mrna vaccination started\n",
    "# '1/22/2020' is the date of the first report\n",
    "start_date = '1/22/20'\n",
    "end_date = '4/28/21'\n",
    "\n",
    "confirmed = confirmed_cases.iloc[0].loc[:end_date][4:]\n",
    "deaths = death_cases.iloc[0].loc[:end_date][4:]\n",
    "recovered = recorvered_cases.iloc[0].loc[:end_date][4:]\n",
    "\n",
    "infected = confirmed - deaths - recovered\n",
    "\n",
<<<<<<< HEAD
    "# SIR model simulation.\n",
    "INIT_S = 68000.0\n",
    "INIT_I = 1.\n",
    "INIT_R = 0.\n",
    "BETA = 0.2\n",
    "GAMMA = 0.1\n",
    "DT = 1\n",
    "TN = len(confirmed) - 1\n",
    "\n",
    "R0 = BETA/GAMMA\n",
    "TR = 1.0/GAMMA\n",
    "\n",
    "s, i, r, t = sor_model(s_0=INIT_S, i_0=INIT_I, r_0=INIT_R, \n",
    "                         beta=BETA, gamma=GAMMA, t_n=TN, dt=DT)\n",
    "\n",
    "df = pd.DataFrame({\n",
    "            'Infected': infected.values,\n",
    "            'Recoverd': recovered.values,\n",
    "            'Susceptible by SIR model': s,\n",
    "            'Infected by SIR model': i,\n",
    "            'Recovered by SIR model': r\n",
    "        }, index=infected.index)\n",
    "df.plot()\n"
=======
    "DT = 1\n",
    "TN = len(confirmed) - 1\n",
    "\n",
    "# R0 = BETA/GAMMA\n",
    "# TR = 1.0/GAMMA\n",
    "\n",
    "df = pd.DataFrame({\n",
    "    'Infected': infected.values,\n",
    "    'Recoverd': recovered.values,\n",
    "}, index=infected.index)"
   ]
  },
  {
   "cell_type": "code",
   "execution_count": 15,
   "metadata": {},
   "outputs": [],
   "source": [
    "df['Log_Infected']=np.log10(df['Infected'].astype(int).replace(0, np.nan))\n",
    "df = df.rename_axis('time').reset_index()\n",
    "df_no_na = df[df['Log_Infected'].notna()]\n",
    "df_no_na = df_no_na.rename_axis('days_elapse').reset_index()\n",
    "result = sm.ols(formula=\"Log_Infected ~ days_elapse\", data=df_no_na[:100]).fit()\n",
    "result.params\n",
    "m = result.params['days_elapse']\n",
    "BETA = calculate_beta(m, GAMMA)"
   ]
  },
  {
   "cell_type": "code",
   "execution_count": 16,
   "metadata": {},
   "outputs": [
    {
     "data": {
      "text/html": [
       "<table class=\"simpletable\">\n",
       "<caption>OLS Regression Results</caption>\n",
       "<tr>\n",
       "  <th>Dep. Variable:</th>      <td>Log_Infected</td>   <th>  R-squared:         </th> <td>   0.821</td>\n",
       "</tr>\n",
       "<tr>\n",
       "  <th>Model:</th>                   <td>OLS</td>       <th>  Adj. R-squared:    </th> <td>   0.820</td>\n",
       "</tr>\n",
       "<tr>\n",
       "  <th>Method:</th>             <td>Least Squares</td>  <th>  F-statistic:       </th> <td>   450.7</td>\n",
       "</tr>\n",
       "<tr>\n",
       "  <th>Date:</th>             <td>Wed, 17 Nov 2021</td> <th>  Prob (F-statistic):</th> <td>1.95e-38</td>\n",
       "</tr>\n",
       "<tr>\n",
       "  <th>Time:</th>                 <td>22:37:26</td>     <th>  Log-Likelihood:    </th> <td> -109.14</td>\n",
       "</tr>\n",
       "<tr>\n",
       "  <th>No. Observations:</th>      <td>   100</td>      <th>  AIC:               </th> <td>   222.3</td>\n",
       "</tr>\n",
       "<tr>\n",
       "  <th>Df Residuals:</th>          <td>    98</td>      <th>  BIC:               </th> <td>   227.5</td>\n",
       "</tr>\n",
       "<tr>\n",
       "  <th>Df Model:</th>              <td>     1</td>      <th>                     </th>     <td> </td>   \n",
       "</tr>\n",
       "<tr>\n",
       "  <th>Covariance Type:</th>      <td>nonrobust</td>    <th>                     </th>     <td> </td>   \n",
       "</tr>\n",
       "</table>\n",
       "<table class=\"simpletable\">\n",
       "<tr>\n",
       "       <td></td>          <th>coef</th>     <th>std err</th>      <th>t</th>      <th>P>|t|</th>  <th>[0.025</th>    <th>0.975]</th>  \n",
       "</tr>\n",
       "<tr>\n",
       "  <th>Intercept</th>   <td>    0.1775</td> <td>    0.156</td> <td>    1.141</td> <td> 0.257</td> <td>   -0.131</td> <td>    0.486</td>\n",
       "</tr>\n",
       "<tr>\n",
       "  <th>days_elapse</th> <td>    0.0535</td> <td>    0.003</td> <td>   21.230</td> <td> 0.000</td> <td>    0.049</td> <td>    0.059</td>\n",
       "</tr>\n",
       "</table>\n",
       "<table class=\"simpletable\">\n",
       "<tr>\n",
       "  <th>Omnibus:</th>       <td> 6.254</td> <th>  Durbin-Watson:     </th> <td>   0.033</td>\n",
       "</tr>\n",
       "<tr>\n",
       "  <th>Prob(Omnibus):</th> <td> 0.044</td> <th>  Jarque-Bera (JB):  </th> <td>   5.401</td>\n",
       "</tr>\n",
       "<tr>\n",
       "  <th>Skew:</th>          <td>-0.482</td> <th>  Prob(JB):          </th> <td>  0.0672</td>\n",
       "</tr>\n",
       "<tr>\n",
       "  <th>Kurtosis:</th>      <td> 2.394</td> <th>  Cond. No.          </th> <td>    132.</td>\n",
       "</tr>\n",
       "</table><br/><br/>Notes:<br/>[1] Standard Errors assume that the covariance matrix of the errors is correctly specified."
      ],
      "text/plain": [
       "<class 'statsmodels.iolib.summary.Summary'>\n",
       "\"\"\"\n",
       "                            OLS Regression Results                            \n",
       "==============================================================================\n",
       "Dep. Variable:           Log_Infected   R-squared:                       0.821\n",
       "Model:                            OLS   Adj. R-squared:                  0.820\n",
       "Method:                 Least Squares   F-statistic:                     450.7\n",
       "Date:                Wed, 17 Nov 2021   Prob (F-statistic):           1.95e-38\n",
       "Time:                        22:37:26   Log-Likelihood:                -109.14\n",
       "No. Observations:                 100   AIC:                             222.3\n",
       "Df Residuals:                      98   BIC:                             227.5\n",
       "Df Model:                           1                                         \n",
       "Covariance Type:            nonrobust                                         \n",
       "===============================================================================\n",
       "                  coef    std err          t      P>|t|      [0.025      0.975]\n",
       "-------------------------------------------------------------------------------\n",
       "Intercept       0.1775      0.156      1.141      0.257      -0.131       0.486\n",
       "days_elapse     0.0535      0.003     21.230      0.000       0.049       0.059\n",
       "==============================================================================\n",
       "Omnibus:                        6.254   Durbin-Watson:                   0.033\n",
       "Prob(Omnibus):                  0.044   Jarque-Bera (JB):                5.401\n",
       "Skew:                          -0.482   Prob(JB):                       0.0672\n",
       "Kurtosis:                       2.394   Cond. No.                         132.\n",
       "==============================================================================\n",
       "\n",
       "Notes:\n",
       "[1] Standard Errors assume that the covariance matrix of the errors is correctly specified.\n",
       "\"\"\""
      ]
     },
     "execution_count": 16,
     "metadata": {},
     "output_type": "execute_result"
    }
   ],
   "source": [
    "result.summary()"
   ]
  },
  {
   "cell_type": "code",
   "execution_count": 17,
   "metadata": {},
   "outputs": [
    {
     "data": {
      "text/plain": [
       "<AxesSubplot:>"
      ]
     },
     "execution_count": 17,
     "metadata": {},
     "output_type": "execute_result"
    },
    {
     "data": {
      "image/png": "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",
      "text/plain": [
       "<Figure size 432x288 with 1 Axes>"
      ]
     },
     "metadata": {
      "needs_background": "light"
     },
     "output_type": "display_data"
    }
   ],
   "source": [
    "s, i, r, t = sir_model(s_0=INIT_S, i_0=INIT_I, r_0=INIT_R, \n",
    "                         beta=BETA, gamma=GAMMA, t_n=TN, dt=DT)\n",
    "\n",
    "df_model = pd.DataFrame({\n",
    "            'Infected': infected.values,\n",
    "            'Recoverd': recovered.values,\n",
    "            'Infected by SIR model': i,\n",
    "            'Recovered by SIR model': r\n",
    "        }, index=infected.index)\n",
    "df_model.plot()"
>>>>>>> e468c19 (finish milestone2)
   ]
  },
  {
   "cell_type": "markdown",
   "metadata": {
    "id": "F76F9m6kJvPM"
   },
   "source": [
    "Based on the graph above, we can see that:\n",
    "* Actual Infected population doesn't match well with the SIR model.\n",
    "* Actual recovered population curve comes later than expected but becomes a lot sharper than expected.\n",
    "* The current model is not good enough for give country. A lot more modifications in the algorithm is required.\n"
   ]
  },
  {
   "cell_type": "markdown",
   "metadata": {
    "id": "NiFADxGsVCgv"
   },
   "source": [
    "# References\n",
    "[1] A Simple Example of a Mathematical Model: The Spread of an Infectious Disease. *Torkel Loman*, https://www.pathsense.eu/simple-example-mathematical-model-spread-infectious-disease/\n",
    "\n",
    "[2] Data Source: Center for Systems Science and Engineering (CSSE) at Johns Hopkins University, https://github.com/CSSEGISandData\n"
   ]
  },
  {
   "cell_type": "code",
   "execution_count": null,
   "metadata": {},
   "outputs": [],
   "source": []
  }
 ],
 "metadata": {
  "colab": {
   "collapsed_sections": [
    "p9T9ZBMmOwzM",
    "m37Mn1dxPNvl",
    "OHvLRMQkPjLI",
    "JsstQcdnRQPp",
    "x9gCFb06e9wm",
    "MCSN1Jk4MrU6",
    "xIF5HYXyNe-r",
    "3h8pPvzNzB39",
    "M2GK_T1UFbFc",
    "aZDkF6YazE5e",
    "NiFADxGsVCgv",
    "6xXrFlsvHbqy"
   ],
   "name": "Copy of CISC614Assignment1.ipynb",
   "provenance": []
  },
<<<<<<< HEAD
  "kernelspec": {
   "display_name": "Python 3 (ipykernel)",
   "language": "python",
=======
  "interpreter": {
   "hash": "31f2aee4e71d21fbe5cf8b01ff0e069b9275f58929596ceb00d14d90e3e16cd6"
  },
  "kernelspec": {
   "display_name": "Python 3.8.2 64-bit",
>>>>>>> e468c19 (finish milestone2)
   "name": "python3"
  },
  "language_info": {
   "codemirror_mode": {
    "name": "ipython",
    "version": 3
   },
   "file_extension": ".py",
   "mimetype": "text/x-python",
   "name": "python",
   "nbconvert_exporter": "python",
   "pygments_lexer": "ipython3",
<<<<<<< HEAD
   "version": "3.9.0"
=======
   "version": "3.8.2"
>>>>>>> e468c19 (finish milestone2)
  }
 },
 "nbformat": 4,
 "nbformat_minor": 1
}
